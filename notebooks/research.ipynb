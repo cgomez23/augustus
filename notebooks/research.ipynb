{
 "cells": [
  {
   "cell_type": "code",
   "execution_count": 16,
   "metadata": {},
   "outputs": [
    {
     "name": "stdout",
     "output_type": "stream",
     "text": [
      "No honeypot logs found\n"
     ]
    },
    {
     "ename": "AttributeError",
     "evalue": "'NoneType' object has no attribute 'find'",
     "output_type": "error",
     "traceback": [
      "\u001b[0;31m---------------------------------------------------------------------------\u001b[0m",
      "\u001b[0;31mAttributeError\u001b[0m                            Traceback (most recent call last)",
      "\u001b[0;32m/tmp/ipykernel_13974/1673397304.py\u001b[0m in \u001b[0;36m<module>\u001b[0;34m\u001b[0m\n\u001b[1;32m     17\u001b[0m     \u001b[0mprint\u001b[0m\u001b[0;34m(\u001b[0m\u001b[0;34m'No honeypot logs found'\u001b[0m\u001b[0;34m)\u001b[0m\u001b[0;34m\u001b[0m\u001b[0;34m\u001b[0m\u001b[0m\n\u001b[1;32m     18\u001b[0m     \u001b[0mexit\u001b[0m\u001b[0;34m(\u001b[0m\u001b[0;36m1\u001b[0m\u001b[0;34m)\u001b[0m\u001b[0;34m\u001b[0m\u001b[0;34m\u001b[0m\u001b[0m\n\u001b[0;32m---> 19\u001b[0;31m \u001b[0mdates\u001b[0m \u001b[0;34m=\u001b[0m \u001b[0;34m[\u001b[0m\u001b[0md\u001b[0m\u001b[0;34m.\u001b[0m\u001b[0mfind_all\u001b[0m\u001b[0;34m(\u001b[0m\u001b[0;34m'td'\u001b[0m\u001b[0;34m)\u001b[0m\u001b[0;34m[\u001b[0m\u001b[0;36m0\u001b[0m\u001b[0;34m]\u001b[0m\u001b[0;34m.\u001b[0m\u001b[0mtext\u001b[0m \u001b[0;32mfor\u001b[0m \u001b[0md\u001b[0m \u001b[0;32min\u001b[0m \u001b[0mtable\u001b[0m\u001b[0;34m.\u001b[0m\u001b[0mfind\u001b[0m\u001b[0;34m(\u001b[0m\u001b[0;34m'tbody'\u001b[0m\u001b[0;34m)\u001b[0m\u001b[0;34m.\u001b[0m\u001b[0mfind_all\u001b[0m\u001b[0;34m(\u001b[0m\u001b[0;34m'tr'\u001b[0m\u001b[0;34m)\u001b[0m\u001b[0;34m]\u001b[0m \u001b[0;31m# type: ignore\u001b[0m\u001b[0;34m\u001b[0m\u001b[0;34m\u001b[0m\u001b[0m\n\u001b[0m\u001b[1;32m     20\u001b[0m \u001b[0;34m\u001b[0m\u001b[0m\n\u001b[1;32m     21\u001b[0m \u001b[0;32mfor\u001b[0m \u001b[0mdate\u001b[0m \u001b[0;32min\u001b[0m \u001b[0mdates\u001b[0m\u001b[0;34m:\u001b[0m\u001b[0;34m\u001b[0m\u001b[0;34m\u001b[0m\u001b[0m\n",
      "\u001b[0;31mAttributeError\u001b[0m: 'NoneType' object has no attribute 'find'"
     ]
    }
   ],
   "source": [
    "import requests\n",
    "from bs4 import BeautifulSoup\n",
    "\n",
    "headers = {\n",
    "    'User-Agent': 'Mozilla/5.0 (Windows NT 10.0; Win64; x64) AppleWebKit/537.36 (KHTML, like Gecko) Chrome/58.0.3029.110 Safari/537.3'\n",
    "}\n",
    "\n",
    "response = requests.get('https://isc.sans.edu/ipinfo/149.248.14.222', headers=headers)\n",
    "response.raise_for_status()  # Raise an exception for non-200 status codes\n",
    "\n",
    "# Parse HTML content\n",
    "soup = BeautifulSoup(response.content, 'html.parser')\n",
    "# print(soup.contents)\n",
    "# Identify elements containing weblog dates (customize based on HTML structure)\n",
    "table = soup.find('table', {\"aria-label\":\"web honeypot logs\"})  # Example class selector\n",
    "if not table:\n",
    "    print('No honeypot logs found')\n",
    "    exit(1)\n",
    "dates = [d.find_all('td')[0].text for d in table.find('tbody').find_all('tr')] # type: ignore\n",
    "\n",
    "for date in dates:\n",
    "    print(date)"
   ]
  },
  {
   "cell_type": "code",
   "execution_count": 24,
   "metadata": {},
   "outputs": [
    {
     "data": {
      "text/plain": [
       "[]"
      ]
     },
     "execution_count": 24,
     "metadata": {},
     "output_type": "execute_result"
    }
   ],
   "source": [
    "import requests\n",
    "from bs4 import BeautifulSoup\n",
    "\n",
    "headers = {\n",
    "    'User-Agent': 'Mozilla/5.0 (Windows NT 10.0; Win64; x64) AppleWebKit/537.36 (KHTML, like Gecko) Chrome/58.0.3029.110 Safari/537.3'\n",
    "}\n",
    "\n",
    "response = requests.get('https://isc.sans.edu/ipdetails.html?ip=8.8.8.9', headers=headers)\n",
    "response.raise_for_status()  # Raise an exception for non-200 status codes\n",
    "\n",
    "soup = BeautifulSoup(response.content, 'html.parser')\n",
    "table = soup.find('table', {\"aria-label\":\"ip address summary\"})\n",
    "\n",
    "headers = [th.text for th in table.find('tr').find_all('th')] # type: ignore\n",
    "data = []\n",
    "for row in table.find_all('tr')[1:]: # type: ignore\n",
    "    row_data = {headers[i]:td.text.strip() for i, td in enumerate(row.find_all('td'))}\n",
    "    data.append(row_data)\n",
    "    \n",
    "# dict(zip(headers, data))\n",
    "data"
   ]
  },
  {
   "cell_type": "code",
   "execution_count": 31,
   "metadata": {},
   "outputs": [
    {
     "data": {
      "text/plain": [
       "'{\\n    \"query_status\": \"ok\",\\n    \"data\": [\\n        {\\n            \"id\": \"1273056\",\\n            \"ioc\": \"147.45.47.149:8081\",\\n            \"threat_type\": \"botnet_cc\",\\n            \"threat_type_desc\": \"Indicator that identifies a botnet command&control server (C&C)\",\\n            \"ioc_type\": \"ip:port\",\\n            \"ioc_type_desc\": \"ip:port combination that is used for botnet Command&control (C&C)\",\\n            \"malware\": \"win.risepro\",\\n            \"malware_printable\": \"RisePro\",\\n            \"malware_alias\": null,\\n            \"malware_malpedia\": \"https:\\\\/\\\\/malpedia.caad.fkie.fraunhofer.de\\\\/details\\\\/win.risepro\",\\n            \"confidence_level\": 80,\\n            \"first_seen\": \"2024-05-20 00:03:57 UTC\",\\n            \"last_seen\": \"2024-05-20 02:12:02 UTC\",\\n            \"reference\": null,\\n            \"reporter\": \"malpulse\",\\n            \"tags\": [\\n                \"c2\",\\n                \"Risepro\"\\n            ],\\n            \"malware_samples\": []\\n        }\\n    ]\\n}'"
      ]
     },
     "execution_count": 31,
     "metadata": {},
     "output_type": "execute_result"
    }
   ],
   "source": [
    "import requests\n",
    "\n",
    "url = \"https://threatfox-api.abuse.ch/api/v1/\"\n",
    "response = requests.post(url, json={\"query\": \"search_ioc\", \"search_term\": '147.45.47.149'})\n",
    "response.text"
   ]
  },
  {
   "cell_type": "code",
   "execution_count": 39,
   "metadata": {},
   "outputs": [
    {
     "data": {
      "text/plain": [
       "{'query_status': 'ok',\n",
       " 'urlhaus_reference': 'https://urlhaus.abuse.ch/host/117.204.197.109/',\n",
       " 'host': '117.204.197.109',\n",
       " 'firstseen': '2024-05-20 01:49:03 UTC',\n",
       " 'url_count': '2',\n",
       " 'blacklists': {'spamhaus_dbl': 'not listed', 'surbl': 'not listed'},\n",
       " 'urls': [{'id': '2856243',\n",
       "   'urlhaus_reference': 'https://urlhaus.abuse.ch/url/2856243/',\n",
       "   'url': 'http://117.204.197.109:39530/i',\n",
       "   'url_status': 'online',\n",
       "   'date_added': '2024-05-20 02:16:07 UTC',\n",
       "   'threat': 'malware_download',\n",
       "   'reporter': 'geenensp',\n",
       "   'larted': 'true',\n",
       "   'takedown_time_seconds': None,\n",
       "   'tags': ['32-bit', 'elf', 'mips', 'Mozi']},\n",
       "  {'id': '2856226',\n",
       "   'urlhaus_reference': 'https://urlhaus.abuse.ch/url/2856226/',\n",
       "   'url': 'http://117.204.197.109:39530/bin.sh',\n",
       "   'url_status': 'online',\n",
       "   'date_added': '2024-05-20 01:49:18 UTC',\n",
       "   'threat': 'malware_download',\n",
       "   'reporter': 'geenensp',\n",
       "   'larted': 'true',\n",
       "   'takedown_time_seconds': None,\n",
       "   'tags': ['32-bit', 'elf', 'mips', 'Mozi']}]}"
      ]
     },
     "execution_count": 39,
     "metadata": {},
     "output_type": "execute_result"
    }
   ],
   "source": [
    "import requests\n",
    "url = \"https://urlhaus-api.abuse.ch/v1/host/\"\n",
    "\n",
    "response = requests.post(url, data={\"host\": '117.204.197.109'})\n",
    "response.json()"
   ]
  },
  {
   "cell_type": "code",
   "execution_count": 60,
   "metadata": {},
   "outputs": [
    {
     "name": "stdout",
     "output_type": "stream",
     "text": [
      "{\"required\":false}\n",
      "{\"url\":\"http://149.248.14.222/\",\"unrated\":false,\"curTrackingId\":55342,\"locked\":false,\"lockedMessage\":null,\"lockedSpecialNote\":null,\"multiple\":false,\"multipleMessage\":null,\"rateDate\":\"Last Time Rated/Reviewed: > {{days}} days {{legacy}}The URL submitted for review was rated more than {{days}} days ago.  The default setting for Symantec SG clients to download rating changes is once a day.  There is no need to show ratings older than this. Since other Symantec products and certain OEM partners update differently, ratings may differ from those of a Symantec SG as well as those present on the Site Review Tool.\",\"categorization\":[{\"num\":44,\"name\":\"Malicious Outbound Data/Botnets\"}],\"threatriskLevel\":null,\"threatriskLevelEn\":null,\"linkable\":false,\"securityCategory\":true,\"securityCategoryIds\":[],\"suggestion\":null,\"resolvedDetail\":{\"resolveEnabled\":true,\"ipAddress\":\"149.248.14.222\"},\"followedUrl\":null,\"translatedCategories\":{\"de\":[{\"num\":44,\"name\":\"Bösartige ausgehende Daten/Botnets (Malicious Outbound Data/Botnets)\"}],\"zh_TW\":[{\"num\":44,\"name\":\"惡意離埠資料/殭屍網路 (Malicious Outbound Data/Botnets)\"}],\"ja\":[{\"num\":44,\"name\":\"悪意のあるアウトバウンドデータ/botnet (Malicious Outbound Data/Botnets)\"}],\"en\":[{\"num\":44,\"name\":\"Malicious Outbound Data/Botnets\"}],\"fr\":[{\"num\":44,\"name\":\"Données sortantes malveillantes/réseaux de bots (Malicious Outbound Data/Botnets)\"}],\"es\":[{\"num\":44,\"name\":\"Datos salientes maliciosos/botnets (Malicious Outbound Data/Botnets)\"}],\"zh\":[{\"num\":44,\"name\":\"恶意出站数据/僵尸网络 (Malicious Outbound Data/Botnets)\"}]},\"ratingDts\":\"OLDER\",\"ratingDtsCutoff\":7}\n"
     ]
    }
   ],
   "source": [
    "from requests import Session\n",
    "\n",
    "# Added the session object\n",
    "\n",
    "s = Session()\n",
    "\n",
    "url_lookup = \"https://sitereview.bluecoat.com/resource/lookup\"\n",
    "url = \"https://sitereview.bluecoat.com/resource/captcha-request\"\n",
    "\n",
    "d_lookup = {\"url\":\"149.248.14.222\",\"captcha\":\"\",\"key\":\"2d8bc7035a732d0afd770c910bfd2a1b6fabb1c76c7dbc0488e756415a57e514\",\"phrase\":\"138e9f642290bd8072b76f38cfb5ad2e3bcf58d54d52a11a80dfb4f97430ed14\",\"source\":\"new lookup\"}\n",
    "d = {\"check\":\"captcha\"}\n",
    "headers = {\n",
    "    \"Accept\": \"application/json, text/plain, */*\",\n",
    "    \"Accept-Encoding\": \"gzip, deflate, br, zstd\",\n",
    "    \"Accept-Language\": \"en_US\",\n",
    "    \"Content-Length\": \"208\",\n",
    "    \"Content-Type\": \"application/json; charset=UTF-8\",\n",
    "    \"Cookie\": \"XSRF-TOKEN=087c0084-974c-41d7-8507-55d69617ee96; GCLB=CIGQw4LrsLjmxwEQAw; JSESSIONID=440F7A7234523763885AEE8916D14107\",\n",
    "    \"Origin\": \"https://sitereview.bluecoat.com\",\n",
    "    \"Referer\": \"https://sitereview.bluecoat.com/\",\n",
    "    \"Sec-Ch-Ua\": '\"Google Chrome\";v=\"123\", \"Not:A-Brand\";v=\"8\", \"Chromium\";v=\"123\"',\n",
    "    \"Sec-Ch-Ua-Mobile\": \"?0\",\n",
    "    \"Sec-Ch-Ua-Platform\": '\"Linux\"',\n",
    "    \"Sec-Fetch-Dest\": \"empty\",\n",
    "    \"Sec-Fetch-Mode\": \"cors\",\n",
    "    \"Sec-Fetch-Site\": \"same-origin\",\n",
    "    \"User-Agent\": \"Mozilla/5.0 (X11; Linux x86_64) AppleWebKit/537.36 (KHTML, like Gecko) Chrome/123.0.0.0 Safari/537.36\",\n",
    "    \"X-Xsrf-Token\": \"087c0084-974c-41d7-8507-55d69617ee96\"\n",
    "}\n",
    "\n",
    "response1 = s.post(url, data=d, headers=headers)\n",
    "print(response1.text)\n",
    "response2 = s.post(url_lookup, json=d_lookup, headers=headers)\n",
    "print(response2.text)"
   ]
  }
 ],
 "metadata": {
  "kernelspec": {
   "display_name": "Python 3",
   "language": "python",
   "name": "python3"
  },
  "language_info": {
   "codemirror_mode": {
    "name": "ipython",
    "version": 3
   },
   "file_extension": ".py",
   "mimetype": "text/x-python",
   "name": "python",
   "nbconvert_exporter": "python",
   "pygments_lexer": "ipython3",
   "version": "3.10.12"
  }
 },
 "nbformat": 4,
 "nbformat_minor": 2
}
